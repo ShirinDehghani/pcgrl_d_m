{
 "cells": [
  {
   "cell_type": "markdown",
   "metadata": {},
   "source": [
    "# Required dependencies"
   ]
  },
  {
   "cell_type": "code",
   "execution_count": 1,
   "metadata": {},
   "outputs": [
    {
     "name": "stdout",
     "output_type": "stream",
     "text": [
      "WARNING:tensorflow:\n",
      "The TensorFlow contrib module will not be included in TensorFlow 2.0.\n",
      "For more information, please see:\n",
      "  * https://github.com/tensorflow/community/blob/master/rfcs/20180907-contrib-sunset.md\n",
      "  * https://github.com/tensorflow/addons\n",
      "  * https://github.com/tensorflow/io (for I/O related ops)\n",
      "If you depend on functionality not listed there, please file an issue.\n",
      "\n"
     ]
    }
   ],
   "source": [
    "import model\n",
    "from stable_baselines import PPO2\n",
    "\n",
    "import time\n",
    "from utils import make_vec_envs\n",
    "\n",
    "%matplotlib inline\n",
    "import matplotlib.pyplot as plt\n",
    "from IPython import display"
   ]
  },
  {
   "cell_type": "markdown",
   "metadata": {},
   "source": [
    "# Defining the parameters and loading the model and environment"
   ]
  },
  {
   "cell_type": "code",
   "execution_count": 2,
   "metadata": {},
   "outputs": [
    {
     "name": "stdout",
     "output_type": "stream",
     "text": [
      "Loading a model without an environment, this model cannot be trained until it has a valid environment.\n",
      "WARNING:tensorflow:From c:\\users\\shirin dehghani\\appdata\\local\\programs\\python\\python37\\lib\\site-packages\\stable_baselines\\common\\tf_util.py:191: The name tf.ConfigProto is deprecated. Please use tf.compat.v1.ConfigProto instead.\n",
      "\n",
      "WARNING:tensorflow:From c:\\users\\shirin dehghani\\appdata\\local\\programs\\python\\python37\\lib\\site-packages\\stable_baselines\\common\\tf_util.py:200: The name tf.Session is deprecated. Please use tf.compat.v1.Session instead.\n",
      "\n"
     ]
    },
    {
     "name": "stderr",
     "output_type": "stream",
     "text": [
      "c:\\users\\shirin dehghani\\appdata\\local\\programs\\python\\python37\\lib\\site-packages\\cloudpickle\\cloudpickle.py:704: UserWarning: A pickle file created using an old (<=1.4.1) version of cloudpicke is currently being loaded. This is not supported by cloudpickle and will break in cloudpickle 1.7\n",
      "  \"will break in cloudpickle 1.7\", category=UserWarning\n"
     ]
    },
    {
     "ename": "SystemError",
     "evalue": "unknown opcode",
     "output_type": "error",
     "traceback": [
      "\u001b[1;31m---------------------------------------------------------------------------\u001b[0m",
      "\u001b[1;31mSystemError\u001b[0m                               Traceback (most recent call last)",
      "\u001b[1;32mC:\\Users\\SHIRIN~1\\AppData\\Local\\Temp/ipykernel_4572/3864157918.py\u001b[0m in \u001b[0;36m<module>\u001b[1;34m\u001b[0m\n\u001b[0;32m     14\u001b[0m     \u001b[0mmodel\u001b[0m\u001b[1;33m.\u001b[0m\u001b[0mFullyConvPolicy\u001b[0m \u001b[1;33m=\u001b[0m \u001b[0mmodel\u001b[0m\u001b[1;33m.\u001b[0m\u001b[0mFullyConvPolicySmallMap\u001b[0m\u001b[1;33m\u001b[0m\u001b[1;33m\u001b[0m\u001b[0m\n\u001b[0;32m     15\u001b[0m \u001b[1;33m\u001b[0m\u001b[0m\n\u001b[1;32m---> 16\u001b[1;33m \u001b[0magent\u001b[0m \u001b[1;33m=\u001b[0m \u001b[0mPPO2\u001b[0m\u001b[1;33m.\u001b[0m\u001b[0mload\u001b[0m\u001b[1;33m(\u001b[0m\u001b[0mmodel_path\u001b[0m\u001b[1;33m)\u001b[0m\u001b[1;33m\u001b[0m\u001b[1;33m\u001b[0m\u001b[0m\n\u001b[0m\u001b[0;32m     17\u001b[0m \u001b[1;33m\u001b[0m\u001b[0m\n\u001b[0;32m     18\u001b[0m \u001b[0menv_name\u001b[0m \u001b[1;33m=\u001b[0m \u001b[1;34m'{}-{}-v0'\u001b[0m\u001b[1;33m.\u001b[0m\u001b[0mformat\u001b[0m\u001b[1;33m(\u001b[0m\u001b[0mgame\u001b[0m\u001b[1;33m,\u001b[0m \u001b[0mrepresentation\u001b[0m\u001b[1;33m)\u001b[0m\u001b[1;33m\u001b[0m\u001b[1;33m\u001b[0m\u001b[0m\n",
      "\u001b[1;32mc:\\users\\shirin dehghani\\appdata\\local\\programs\\python\\python37\\lib\\site-packages\\stable_baselines\\common\\base_class.py\u001b[0m in \u001b[0;36mload\u001b[1;34m(cls, load_path, env, custom_objects, **kwargs)\u001b[0m\n\u001b[0;32m    945\u001b[0m         \u001b[0mmodel\u001b[0m\u001b[1;33m.\u001b[0m\u001b[0m__dict__\u001b[0m\u001b[1;33m.\u001b[0m\u001b[0mupdate\u001b[0m\u001b[1;33m(\u001b[0m\u001b[0mkwargs\u001b[0m\u001b[1;33m)\u001b[0m\u001b[1;33m\u001b[0m\u001b[1;33m\u001b[0m\u001b[0m\n\u001b[0;32m    946\u001b[0m         \u001b[0mmodel\u001b[0m\u001b[1;33m.\u001b[0m\u001b[0mset_env\u001b[0m\u001b[1;33m(\u001b[0m\u001b[0menv\u001b[0m\u001b[1;33m)\u001b[0m\u001b[1;33m\u001b[0m\u001b[1;33m\u001b[0m\u001b[0m\n\u001b[1;32m--> 947\u001b[1;33m         \u001b[0mmodel\u001b[0m\u001b[1;33m.\u001b[0m\u001b[0msetup_model\u001b[0m\u001b[1;33m(\u001b[0m\u001b[1;33m)\u001b[0m\u001b[1;33m\u001b[0m\u001b[1;33m\u001b[0m\u001b[0m\n\u001b[0m\u001b[0;32m    948\u001b[0m \u001b[1;33m\u001b[0m\u001b[0m\n\u001b[0;32m    949\u001b[0m         \u001b[0mmodel\u001b[0m\u001b[1;33m.\u001b[0m\u001b[0mload_parameters\u001b[0m\u001b[1;33m(\u001b[0m\u001b[0mparams\u001b[0m\u001b[1;33m)\u001b[0m\u001b[1;33m\u001b[0m\u001b[1;33m\u001b[0m\u001b[0m\n",
      "\u001b[1;32mc:\\users\\shirin dehghani\\appdata\\local\\programs\\python\\python37\\lib\\site-packages\\stable_baselines\\ppo2\\ppo2.py\u001b[0m in \u001b[0;36msetup_model\u001b[1;34m(self)\u001b[0m\n\u001b[0;32m    128\u001b[0m \u001b[1;33m\u001b[0m\u001b[0m\n\u001b[0;32m    129\u001b[0m                 act_model = self.policy(self.sess, self.observation_space, self.action_space, self.n_envs, 1,\n\u001b[1;32m--> 130\u001b[1;33m                                         n_batch_step, reuse=False, **self.policy_kwargs)\n\u001b[0m\u001b[0;32m    131\u001b[0m                 with tf.variable_scope(\"train_model\", reuse=True,\n\u001b[0;32m    132\u001b[0m                                        custom_getter=tf_util.outer_scope_getter(\"train_model\")):\n",
      "\u001b[1;32m~\\Downloads\\python\\pcgrl_d_m\\train.py\u001b[0m in \u001b[0;36m__init__\u001b[1;34m(self, *args, **kwargs)\u001b[0m\n",
      "\u001b[1;31mSystemError\u001b[0m: unknown opcode"
     ]
    }
   ],
   "source": [
    "game = 'sokoban'\n",
    "representation = 'turtle'\n",
    "model_path = 'models/{}/{}/model_2.pkl'.format(game, representation)\n",
    "kwargs = {\n",
    "    'change_percentage': 0.4,\n",
    "    'verbose': True\n",
    "}\n",
    "\n",
    "if game == \"binary\":\n",
    "    model.FullyConvPolicy = model.FullyConvPolicyBigMap\n",
    "elif game == \"zelda\":\n",
    "    model.FullyConvPolicy = model.FullyConvPolicyBigMap\n",
    "elif game == \"sokoban\":\n",
    "    model.FullyConvPolicy = model.FullyConvPolicySmallMap\n",
    "\n",
    "agent = PPO2.load(model_path)\n",
    "\n",
    "env_name = '{}-{}-v0'.format(game, representation)\n",
    "if game == \"binary\":\n",
    "    kwargs['cropped_size'] = 28\n",
    "elif game == \"zelda\":\n",
    "    kwargs['cropped_size'] = 22\n",
    "elif game == \"sokoban\":\n",
    "    kwargs['cropped_size'] = 10\n",
    "    \n",
    "env = make_vec_envs(env_name, representation, None, 1, **kwargs)"
   ]
  },
  {
   "cell_type": "markdown",
   "metadata": {},
   "source": [
    "# Run Model"
   ]
  },
  {
   "cell_type": "code",
   "execution_count": null,
   "metadata": {
    "scrolled": true
   },
   "outputs": [],
   "source": [
    "def show_state(env, step=0, changes=0, total_reward=0, name=\"\"):\n",
    "    fig = plt.figure(10)\n",
    "    plt.clf()\n",
    "    plt.title(\"{} | Step: {} Changes: {} Total Reward: {}\".format(name, step, changes, total_reward))\n",
    "    plt.axis('off')\n",
    "    plt.imshow(env.render(mode='rgb_array'))\n",
    "    display.clear_output(wait=True)\n",
    "    display.display(plt.gcf())\n",
    "    \n",
    "def infer(env, agent, **kwargs):\n",
    "    obs = env.reset()\n",
    "    dones = False\n",
    "    total_rewards = 0\n",
    "    while not dones:\n",
    "        action, _ = agent.predict(obs)\n",
    "        obs, rewards, dones, info = env.step(action)\n",
    "        total_rewards += rewards\n",
    "        if dones:\n",
    "            break\n",
    "        show_state(env, info[0]['iterations'], info[0]['changes'], total_rewards)\n",
    "    if kwargs.get('verbose', False):\n",
    "        print(info[0])\n",
    "        print(total_rewards, \"**************\")\n",
    "\n",
    "infer(env, agent, **kwargs)"
   ]
  },
  {
   "cell_type": "code",
   "execution_count": null,
   "metadata": {},
   "outputs": [],
   "source": []
  }
 ],
 "metadata": {
  "anaconda-cloud": {},
  "kernelspec": {
   "display_name": "Python 3 (ipykernel)",
   "language": "python",
   "name": "python3"
  },
  "language_info": {
   "codemirror_mode": {
    "name": "ipython",
    "version": 3
   },
   "file_extension": ".py",
   "mimetype": "text/x-python",
   "name": "python",
   "nbconvert_exporter": "python",
   "pygments_lexer": "ipython3",
   "version": "3.7.5"
  }
 },
 "nbformat": 4,
 "nbformat_minor": 4
}
